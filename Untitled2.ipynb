{
  "nbformat": 4,
  "nbformat_minor": 0,
  "metadata": {
    "colab": {
      "provenance": []
    },
    "kernelspec": {
      "name": "python3",
      "display_name": "Python 3"
    },
    "language_info": {
      "name": "python"
    }
  },
  "cells": [
    {
      "cell_type": "markdown",
      "source": [
        "# 新段落"
      ],
      "metadata": {
        "id": "PEfUG2zApijO"
      }
    },
    {
      "cell_type": "markdown",
      "source": [
        "Get the Data and clean the null value"
      ],
      "metadata": {
        "id": "FxvohmrF1LdJ"
      }
    },
    {
      "cell_type": "code",
      "source": [
        "import matplotlib.pyplot as plt\n",
        "import numpy as np\n",
        "import pandas as pd\n",
        "from zlib import crc32\n",
        "from sklearn.linear_model import LinearRegression\n",
        "from sklearn.model_selection import StratifiedShuffleSplit\n",
        "from sklearn.model_selection import train_test_split\n",
        "from sklearn.impute import SimpleImputer\n",
        "from pandas.plotting import scatter_matrix\n",
        "from sklearn.preprocessing import OrdinalEncoder\n",
        "from sklearn.preprocessing import OneHotEncoder\n",
        "from sklearn.preprocessing import MinMaxScaler\n",
        "from sklearn.preprocessing import StandardScaler\n",
        "from sklearn.base import BaseEstimator, TransformerMixin\n",
        "from sklearn.utils.validation import check_array, check_is_fitted\n",
        "from sklearn.compose import ColumnTransformer\n",
        "from sklearn.compose import make_column_selector,make_column_transformer\n",
        "from sklearn.pipeline import Pipeline\n",
        "from sklearn.pipeline import make_pipeline\n",
        "from sklearn.metrics import mean_absolute_error, mean_squared_error, r2_score\n",
        "\n",
        "data_root = \"/content/sample_data/\"\n",
        "insuranceclas1 = pd.read_csv(data_root + \"AXE_dataset.csv\")\n",
        "insuranceclas = insuranceclas1.dropna(how='all')\n",
        "insuranceclas['past claims'] = insuranceclas['past claims'].str.replace(',', '')\n",
        "insuranceclas['past claims'] = pd.to_numeric(insuranceclas['past claims'], errors='coerce')"
      ],
      "metadata": {
        "id": "RF7bdPjYqKfE",
        "colab": {
          "base_uri": "https://localhost:8080/"
        },
        "outputId": "1d9b4e4d-b817-4d5e-c936-c24a9cd027e5"
      },
      "execution_count": null,
      "outputs": [
        {
          "output_type": "stream",
          "name": "stderr",
          "text": [
            "<ipython-input-37-717cb3e17d41>:25: SettingWithCopyWarning: \n",
            "A value is trying to be set on a copy of a slice from a DataFrame.\n",
            "Try using .loc[row_indexer,col_indexer] = value instead\n",
            "\n",
            "See the caveats in the documentation: https://pandas.pydata.org/pandas-docs/stable/user_guide/indexing.html#returning-a-view-versus-a-copy\n",
            "  insuranceclas['past claims'] = insuranceclas['past claims'].str.replace(',', '')\n",
            "<ipython-input-37-717cb3e17d41>:26: SettingWithCopyWarning: \n",
            "A value is trying to be set on a copy of a slice from a DataFrame.\n",
            "Try using .loc[row_indexer,col_indexer] = value instead\n",
            "\n",
            "See the caveats in the documentation: https://pandas.pydata.org/pandas-docs/stable/user_guide/indexing.html#returning-a-view-versus-a-copy\n",
            "  insuranceclas['past claims'] = pd.to_numeric(insuranceclas['past claims'], errors='coerce')\n"
          ]
        }
      ]
    },
    {
      "cell_type": "markdown",
      "source": [
        "Data Cleaning for numerical data"
      ],
      "metadata": {
        "id": "RQJF8Yb25NmY"
      }
    },
    {
      "cell_type": "code",
      "source": [
        "median = insuranceclas[\"bmi\"].median()\n",
        "insuranceclas[\"bmi\"].fillna(median, inplace=True)\n",
        "\n",
        "median = insuranceclas[\"age\"].median()\n",
        "insuranceclas[\"age\"].fillna(median, inplace=True)\n",
        "\n",
        "median = insuranceclas[\"children\"].median()\n",
        "insuranceclas[\"children\"].fillna(median, inplace=True)"
      ],
      "metadata": {
        "id": "EPTnKrGZ47iE",
        "colab": {
          "base_uri": "https://localhost:8080/"
        },
        "outputId": "395683ae-9826-4456-fb87-7d10ea4c828a"
      },
      "execution_count": null,
      "outputs": [
        {
          "output_type": "stream",
          "name": "stderr",
          "text": [
            "<ipython-input-38-eab7016a1342>:2: FutureWarning: A value is trying to be set on a copy of a DataFrame or Series through chained assignment using an inplace method.\n",
            "The behavior will change in pandas 3.0. This inplace method will never work because the intermediate object on which we are setting values always behaves as a copy.\n",
            "\n",
            "For example, when doing 'df[col].method(value, inplace=True)', try using 'df.method({col: value}, inplace=True)' or df[col] = df[col].method(value) instead, to perform the operation inplace on the original object.\n",
            "\n",
            "\n",
            "  insuranceclas[\"bmi\"].fillna(median, inplace=True)\n",
            "<ipython-input-38-eab7016a1342>:2: SettingWithCopyWarning: \n",
            "A value is trying to be set on a copy of a slice from a DataFrame\n",
            "\n",
            "See the caveats in the documentation: https://pandas.pydata.org/pandas-docs/stable/user_guide/indexing.html#returning-a-view-versus-a-copy\n",
            "  insuranceclas[\"bmi\"].fillna(median, inplace=True)\n",
            "<ipython-input-38-eab7016a1342>:5: FutureWarning: A value is trying to be set on a copy of a DataFrame or Series through chained assignment using an inplace method.\n",
            "The behavior will change in pandas 3.0. This inplace method will never work because the intermediate object on which we are setting values always behaves as a copy.\n",
            "\n",
            "For example, when doing 'df[col].method(value, inplace=True)', try using 'df.method({col: value}, inplace=True)' or df[col] = df[col].method(value) instead, to perform the operation inplace on the original object.\n",
            "\n",
            "\n",
            "  insuranceclas[\"age\"].fillna(median, inplace=True)\n",
            "<ipython-input-38-eab7016a1342>:5: SettingWithCopyWarning: \n",
            "A value is trying to be set on a copy of a slice from a DataFrame\n",
            "\n",
            "See the caveats in the documentation: https://pandas.pydata.org/pandas-docs/stable/user_guide/indexing.html#returning-a-view-versus-a-copy\n",
            "  insuranceclas[\"age\"].fillna(median, inplace=True)\n",
            "<ipython-input-38-eab7016a1342>:8: FutureWarning: A value is trying to be set on a copy of a DataFrame or Series through chained assignment using an inplace method.\n",
            "The behavior will change in pandas 3.0. This inplace method will never work because the intermediate object on which we are setting values always behaves as a copy.\n",
            "\n",
            "For example, when doing 'df[col].method(value, inplace=True)', try using 'df.method({col: value}, inplace=True)' or df[col] = df[col].method(value) instead, to perform the operation inplace on the original object.\n",
            "\n",
            "\n",
            "  insuranceclas[\"children\"].fillna(median, inplace=True)\n",
            "<ipython-input-38-eab7016a1342>:8: SettingWithCopyWarning: \n",
            "A value is trying to be set on a copy of a slice from a DataFrame\n",
            "\n",
            "See the caveats in the documentation: https://pandas.pydata.org/pandas-docs/stable/user_guide/indexing.html#returning-a-view-versus-a-copy\n",
            "  insuranceclas[\"children\"].fillna(median, inplace=True)\n"
          ]
        }
      ]
    },
    {
      "cell_type": "markdown",
      "source": [
        "Create Test Set"
      ],
      "metadata": {
        "id": "61nS4iC31EaS"
      }
    },
    {
      "cell_type": "code",
      "source": [
        "insuranceclas_labels = insuranceclas[\"past claims\"].copy()\n",
        "insuranceclas = insuranceclas.drop(\"past claims\", axis=1)\n",
        "X_train, X_test, y_train, y_test = train_test_split(insuranceclas, insuranceclas_labels, test_size=0.2, random_state=42)"
      ],
      "metadata": {
        "id": "ApWYnfQJIhHo"
      },
      "execution_count": null,
      "outputs": []
    },
    {
      "cell_type": "markdown",
      "source": [
        "Drop the text attribute and create an imputer instance"
      ],
      "metadata": {
        "id": "yvupz_Ty56ZS"
      }
    },
    {
      "cell_type": "code",
      "source": [
        "imputer = SimpleImputer(strategy=\"median\")\n",
        "insuranceclas_num = insuranceclas.select_dtypes(include=[np.number])\n",
        "imputer.fit(insuranceclas_num)\n",
        "imputer.statistics_\n",
        "insuranceclas_num.median().values\n",
        "X = imputer.transform(insuranceclas_num)\n",
        "insuranceclas_tr = pd.DataFrame(X, columns=insuranceclas_num.columns,index=insuranceclas_num.index)"
      ],
      "metadata": {
        "id": "KI9L6atg5oJ_"
      },
      "execution_count": null,
      "outputs": []
    },
    {
      "cell_type": "markdown",
      "source": [
        "Standardization"
      ],
      "metadata": {
        "id": "z1Yx5_S0DryY"
      }
    },
    {
      "cell_type": "code",
      "source": [
        "std_scaler = StandardScaler()\n",
        "insuranceclas_num_std_scaled = std_scaler.fit_transform(insuranceclas_num)"
      ],
      "metadata": {
        "id": "XRVAVzT9DvvY"
      },
      "execution_count": null,
      "outputs": []
    },
    {
      "cell_type": "markdown",
      "source": [
        "Transformation Pipelines"
      ],
      "metadata": {
        "id": "bmkQ__W_mlGX"
      }
    },
    {
      "cell_type": "code",
      "source": [
        "num_pipeline = make_pipeline(SimpleImputer(strategy=\"median\"),StandardScaler())\n",
        "insuranceclas_num_prepared = num_pipeline.fit_transform(insuranceclas_num)\n",
        "insuranceclas_num_prepared[:2].round(2)"
      ],
      "metadata": {
        "id": "ziiLvivusNbA",
        "colab": {
          "base_uri": "https://localhost:8080/"
        },
        "outputId": "537d701f-ebc7-4710-be37-c28f4723b5dc"
      },
      "execution_count": null,
      "outputs": [
        {
          "output_type": "execute_result",
          "data": {
            "text/plain": [
              "array([[-0.93, -0.16,  0.75],\n",
              "       [ 0.55,  2.77, -0.08]])"
            ]
          },
          "metadata": {},
          "execution_count": 42
        }
      ]
    },
    {
      "cell_type": "code",
      "source": [
        "df_insuranceclas_num_prepared = pd.DataFrame(insuranceclas_num_prepared,\n",
        "                                          columns=num_pipeline.get_feature_names_out(),\n",
        "                                          index=insuranceclas_num.index)"
      ],
      "metadata": {
        "id": "LhBgcoJKilmN"
      },
      "execution_count": null,
      "outputs": []
    },
    {
      "cell_type": "code",
      "source": [
        "numeric_features = ['age', 'bmi','children']\n",
        "numeric_transformer = Pipeline(steps=[\n",
        "    ('scaler', StandardScaler())\n",
        "])\n",
        "\n",
        "categorical_features_onehot = ['home', 'sex', 'drinking','smoker']\n",
        "categorical_transformer_onehot = Pipeline(steps=[\n",
        "    ('onehot', OneHotEncoder())\n",
        "])\n",
        "\n",
        "\n",
        "preprocessing = ColumnTransformer(\n",
        "    transformers=[\n",
        "        ('num', numeric_transformer, numeric_features),\n",
        "        ('cat_onehot', categorical_transformer_onehot, categorical_features_onehot)\n",
        "    ])"
      ],
      "metadata": {
        "id": "lJkTTEsHvClK"
      },
      "execution_count": null,
      "outputs": []
    },
    {
      "cell_type": "code",
      "source": [
        "insuranceclas_prepared = preprocessing.fit_transform(insuranceclas)\n",
        "insuranceclas_prepared.shape\n",
        "preprocessing.get_feature_names_out()"
      ],
      "metadata": {
        "id": "8zneDOuc5Vfc",
        "colab": {
          "base_uri": "https://localhost:8080/"
        },
        "outputId": "b2626530-be3a-4777-a0b0-503b0e3f3e27"
      },
      "execution_count": null,
      "outputs": [
        {
          "output_type": "execute_result",
          "data": {
            "text/plain": [
              "array(['num__age', 'num__bmi', 'num__children',\n",
              "       'cat_onehot__home_Hong Kong Island', 'cat_onehot__home_Kowloon',\n",
              "       'cat_onehot__home_North NT', 'cat_onehot__home_South NT',\n",
              "       'cat_onehot__sex_female', 'cat_onehot__sex_male',\n",
              "       'cat_onehot__drinking_frequent', 'cat_onehot__drinking_no',\n",
              "       'cat_onehot__drinking_occasional', 'cat_onehot__smoker_no',\n",
              "       'cat_onehot__smoker_yes'], dtype=object)"
            ]
          },
          "metadata": {},
          "execution_count": 45
        }
      ]
    },
    {
      "cell_type": "markdown",
      "source": [
        "Select and Train Models – Work on Training Set"
      ],
      "metadata": {
        "id": "oiRiL83A80Av"
      }
    },
    {
      "cell_type": "code",
      "source": [
        "lin_reg =  Pipeline(steps=[\n",
        "    ('preprocessor', preprocessing),\n",
        "    ('regressor', LinearRegression())\n",
        "])\n",
        "lin_reg.fit(X_train, y_train)\n",
        "model = lin_reg.named_steps['regressor']\n",
        "\n",
        "insuranceclas_predictions = lin_reg.predict(X_test)\n",
        "insuranceclas_predictions[:5].round(-2)\n",
        "insuranceclas_labels.iloc[:5].values"
      ],
      "metadata": {
        "id": "wVpCZOz95BT8",
        "colab": {
          "base_uri": "https://localhost:8080/"
        },
        "outputId": "e42a9012-52e9-4dba-8e9e-06679e03f942"
      },
      "execution_count": null,
      "outputs": [
        {
          "output_type": "execute_result",
          "data": {
            "text/plain": [
              "array([ 27645,  53225, 124522, 129820,  10918])"
            ]
          },
          "metadata": {},
          "execution_count": 46
        }
      ]
    },
    {
      "cell_type": "markdown",
      "source": [
        "Analyzing the Model and its Errors"
      ],
      "metadata": {
        "id": "Y0q2p8m-sCPh"
      }
    },
    {
      "cell_type": "code",
      "source": [
        "mae = mean_absolute_error(y_test, insuranceclas_predictions)\n",
        "mse = mean_squared_error(y_test, insuranceclas_predictions)\n",
        "r2 = r2_score(y_test, insuranceclas_predictions)\n",
        "\n",
        "print(f\"Mean Absolute Error: {mae}\")\n",
        "print(f\"Mean Squared Error: {mse}\")\n",
        "print(f\"R-squared Score: {r2}\")\n",
        "\n",
        "plt.scatter(y_test, insuranceclas_predictions)\n",
        "plt.xlabel('Actual Claims Amount (HKD)')\n",
        "plt.ylabel('Predicted Claims Amount (HKD)')\n",
        "plt.title('Actual vs. Predicted Insurance Claims')\n",
        "plt.show()"
      ],
      "metadata": {
        "colab": {
          "base_uri": "https://localhost:8080/",
          "height": 523
        },
        "id": "puUYu4LknhWO",
        "outputId": "8717ad99-cab5-45c7-8b8f-98e53b9f6e13"
      },
      "execution_count": null,
      "outputs": [
        {
          "output_type": "stream",
          "name": "stdout",
          "text": [
            "Mean Absolute Error: 28126.11603663487\n",
            "Mean Squared Error: 1874137187.7053642\n",
            "R-squared Score: 0.712846001295941\n"
          ]
        },
        {
          "output_type": "display_data",
          "data": {
            "text/plain": [
              "<Figure size 640x480 with 1 Axes>"
            ],
            "image/png": "[encoded data removed]"
          },
          "metadata": {}
        }
      ]
    },
    {
      "cell_type": "code",
      "source": [
        "feature_importances = model.coef_.round(2)\n",
        "feature_importances\n",
        "\n",
        "sorted(zip(feature_importances,\n",
        "           lin_reg[:-1].get_feature_names_out()),\n",
        "       reverse=True)"
      ],
      "metadata": {
        "colab": {
          "base_uri": "https://localhost:8080/"
        },
        "id": "I9jACnk6sB1L",
        "outputId": "7015d65a-24d2-43a2-8b65-b5a43d4ff476"
      },
      "execution_count": null,
      "outputs": [
        {
          "output_type": "execute_result",
          "data": {
            "text/plain": [
              "[(85199.73, 'cat_onehot__smoker_yes'),\n",
              " (25655.44, 'num__age'),\n",
              " (14501.99, 'num__bmi'),\n",
              " (5429.78, 'cat_onehot__home_Kowloon'),\n",
              " (5325.92, 'num__children'),\n",
              " (2082.27, 'cat_onehot__home_North NT'),\n",
              " (967.15, 'cat_onehot__drinking_no'),\n",
              " (169.91, 'cat_onehot__sex_female'),\n",
              " (-169.91, 'cat_onehot__sex_male'),\n",
              " (-389.0, 'cat_onehot__drinking_frequent'),\n",
              " (-578.15, 'cat_onehot__drinking_occasional'),\n",
              " (-2220.7, 'cat_onehot__home_Hong Kong Island'),\n",
              " (-5291.35, 'cat_onehot__home_South NT'),\n",
              " (-85199.73, 'cat_onehot__smoker_no')]"
            ]
          },
          "metadata": {},
          "execution_count": 48
        }
      ]
    },
    {
      "cell_type": "markdown",
      "source": [
        "Save the model"
      ],
      "metadata": {
        "id": "7UoukKhUv91m"
      }
    },
    {
      "cell_type": "code",
      "source": [
        "import joblib\n",
        "joblib.dump(model,\"my_claims_prediction.pkl\")"
      ],
      "metadata": {
        "id": "uE59R59RMZIU",
        "colab": {
          "base_uri": "https://localhost:8080/"
        },
        "outputId": "d6401e42-62de-45b9-9044-3c1cfbca99ba"
      },
      "execution_count": null,
      "outputs": [
        {
          "output_type": "execute_result",
          "data": {
            "text/plain": [
              "['my_claims_prediction.pkl']"
            ]
          },
          "metadata": {},
          "execution_count": 49
        }
      ]
    }
  ]
}