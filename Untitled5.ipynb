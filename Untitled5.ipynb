{
  "nbformat": 4,
  "nbformat_minor": 0,
  "metadata": {
    "colab": {
      "provenance": []
    },
    "kernelspec": {
      "name": "python3",
      "display_name": "Python 3"
    },
    "language_info": {
      "name": "python"
    }
  },
  "cells": [
    {
      "cell_type": "markdown",
      "source": [
        "Step 1: Import Required Libraries"
      ],
      "metadata": {
        "id": "sMZ924KCJQJK"
      }
    },
    {
      "cell_type": "code",
      "execution_count": 35,
      "metadata": {
        "id": "_ZJbcZttJNv7"
      },
      "outputs": [],
      "source": [
        "import pandas as pd\n",
        "import numpy as np\n",
        "import matplotlib.pyplot as plt\n",
        "import seaborn as sns\n",
        "from sklearn.model_selection import train_test_split, cross_val_score, GridSearchCV\n",
        "from sklearn.preprocessing import StandardScaler\n",
        "from sklearn.linear_model import LogisticRegression\n",
        "from sklearn.metrics import (classification_report, confusion_matrix,\n",
        "                            accuracy_score, precision_score, recall_score,\n",
        "                            f1_score, roc_auc_score, roc_curve,\n",
        "                            precision_recall_curve, ConfusionMatrixDisplay)"
      ]
    },
    {
      "cell_type": "markdown",
      "source": [
        "Step 2: Load and Explore the Data"
      ],
      "metadata": {
        "id": "xMjiBLcpJZCi"
      }
    },
    {
      "cell_type": "code",
      "source": [
        "# Load the dataset (upload Diamond_dataset.xlsx first)\n",
        "df = pd.read_excel('/content/Diamond_dataset.xlsx')\n",
        "\n",
        "# Display basic info\n",
        "print(df.info())\n",
        "print(df.head())\n",
        "\n",
        "# Summary statistics\n",
        "print(df.describe())\n",
        "\n",
        "# Check class distribution\n",
        "print(df['Grading'].value_counts())"
      ],
      "metadata": {
        "colab": {
          "base_uri": "https://localhost:8080/"
        },
        "id": "AMxDriwWJbFv",
        "outputId": "78a59553-e453-41b2-cae6-8e69e773b256"
      },
      "execution_count": 36,
      "outputs": [
        {
          "output_type": "stream",
          "name": "stdout",
          "text": [
            "<class 'pandas.core.frame.DataFrame'>\n",
            "RangeIndex: 10000 entries, 0 to 9999\n",
            "Data columns (total 10 columns):\n",
            " #   Column       Non-Null Count  Dtype  \n",
            "---  ------       --------------  -----  \n",
            " 0   carat        10000 non-null  float64\n",
            " 1   cut          10000 non-null  object \n",
            " 2   colour       10000 non-null  object \n",
            " 3   clarity      10000 non-null  object \n",
            " 4   Length       10000 non-null  float64\n",
            " 5   Width        10000 non-null  float64\n",
            " 6   height       10000 non-null  float64\n",
            " 7   depth ratio  10000 non-null  float64\n",
            " 8   table        10000 non-null  float64\n",
            " 9   Grading      10000 non-null  object \n",
            "dtypes: float64(6), object(4)\n",
            "memory usage: 781.4+ KB\n",
            "None\n",
            "   carat        cut colour clarity  Length  Width  height  depth ratio  table  \\\n",
            "0   1.20  Very Good      H     SI2    6.74   6.77    4.25         62.9   56.0   \n",
            "1   0.60      Ideal      G    VVS2    5.37   5.41    3.31         61.4   59.0   \n",
            "2   0.23      Ideal      G      IF    3.93   3.96    2.48         62.8   55.0   \n",
            "3   1.51  Very Good      D     VS2    7.29   7.34    4.56         62.3   59.0   \n",
            "4   1.01  Very Good      D    VVS2    6.51   6.57    3.94         60.2   58.0   \n",
            "\n",
            "  Grading  \n",
            "0   Mid    \n",
            "1   Mid    \n",
            "2   Low    \n",
            "3  High    \n",
            "4  High    \n",
            "              carat        Length         Width        height   depth ratio  \\\n",
            "count  10000.000000  10000.000000  10000.000000  10000.000000  10000.000000   \n",
            "mean       0.801591      5.738197      5.744263      3.545418     61.758790   \n",
            "std        0.477550      1.131100      1.239754      0.753577      1.442807   \n",
            "min        0.200000      0.000000      0.000000      0.000000     50.800000   \n",
            "25%        0.400000      4.720000      4.720000      2.910000     61.100000   \n",
            "50%        0.700000      5.690000      5.710000      3.530000     61.900000   \n",
            "75%        1.050000      6.550000      6.550000      4.040000     62.500000   \n",
            "max        4.130000     10.140000     58.900000     31.800000     71.800000   \n",
            "\n",
            "              table  \n",
            "count  10000.000000  \n",
            "mean      57.453700  \n",
            "std        2.243387  \n",
            "min       49.000000  \n",
            "25%       56.000000  \n",
            "50%       57.000000  \n",
            "75%       59.000000  \n",
            "max       95.000000  \n",
            "Grading\n",
            "Mid       5416\n",
            " Low      2703\n",
            "High      1881\n",
            "Name: count, dtype: int64\n"
          ]
        }
      ]
    },
    {
      "cell_type": "markdown",
      "source": [
        "Step 3: Check and process missing values"
      ],
      "metadata": {
        "id": "TVyBOdOZRSsC"
      }
    },
    {
      "cell_type": "code",
      "source": [
        "df = pd.read_excel('Diamond_dataset.xlsx', dtype={'Grading': str})\n",
        "df['Grading'] = df['Grading'].str.strip()\n",
        "\n",
        "print(\"Missing value statistics:\")\n",
        "print(df.isnull().sum())"
      ],
      "metadata": {
        "colab": {
          "base_uri": "https://localhost:8080/"
        },
        "id": "Ks1Pe4QzRXEs",
        "outputId": "62a73df0-d9be-4aea-9619-2b764c1ffdfb"
      },
      "execution_count": 37,
      "outputs": [
        {
          "output_type": "stream",
          "name": "stdout",
          "text": [
            "Missing value statistics:\n",
            "carat          0\n",
            "cut            0\n",
            "colour         0\n",
            "clarity        0\n",
            "Length         0\n",
            "Width          0\n",
            "height         0\n",
            "depth ratio    0\n",
            "table          0\n",
            "Grading        0\n",
            "dtype: int64\n"
          ]
        }
      ]
    },
    {
      "cell_type": "markdown",
      "source": [
        "Step 4: Handle Categorical Variables"
      ],
      "metadata": {
        "id": "-0Y5b3VvNjaV"
      }
    },
    {
      "cell_type": "code",
      "source": [
        "# Encode categorical variables\n",
        "cut_map = {'Fair':0, 'Good':1, 'Very Good':2, 'Premium':3, 'Ideal':4}\n",
        "color_map = {'J':0, 'I':1, 'H':2, 'G':3, 'F':4, 'E':5, 'D':6}\n",
        "clarity_map = {'I1':0, 'SI2':1, 'SI1':2, 'VS2':3, 'VS1':4, 'VVS2':5, 'VVS1':6, 'IF':7}\n",
        "\n",
        "df['cut'] = df['cut'].map(cut_map)\n",
        "df['colour'] = df['colour'].map(color_map)\n",
        "df['clarity'] = df['clarity'].map(clarity_map)\n",
        "\n",
        "# Encode target variable\n",
        "grade_map = {'Low':0, 'Mid':1, 'High':2}\n",
        "df['Grading'] = df['Grading'].map(grade_map)\n",
        "\n",
        "# Calculate additional features if needed\n",
        "df['volume'] = df['Length'] * df['Width'] * df['height']\n",
        "df['table_to_depth_ratio'] = df['table'] / df['depth ratio']"
      ],
      "metadata": {
        "id": "YK9JJjwmNN6R"
      },
      "execution_count": 38,
      "outputs": []
    },
    {
      "cell_type": "markdown",
      "source": [
        "Step 5: Split Data"
      ],
      "metadata": {
        "id": "-RhmAjuPPRl6"
      }
    },
    {
      "cell_type": "code",
      "source": [
        "X = df.drop('Grading', axis=1)\n",
        "y = df['Grading']\n",
        "\n",
        "# Split into train and test sets\n",
        "X_train, X_test, y_train, y_test = train_test_split(X, y, test_size=0.2, random_state=42, stratify=y)\n",
        "\n",
        "# Scale numerical features\n",
        "scaler = StandardScaler()\n",
        "X_train_scaled = scaler.fit_transform(X_train)\n",
        "X_test_scaled = scaler.transform(X_test)"
      ],
      "metadata": {
        "id": "4OA0MhxtPSNh"
      },
      "execution_count": 39,
      "outputs": []
    },
    {
      "cell_type": "markdown",
      "source": [
        "Step 6: Train Logistic Regression (Softmax for Multiclass)"
      ],
      "metadata": {
        "id": "xgPj5PH-SpwM"
      }
    },
    {
      "cell_type": "code",
      "source": [
        "log_reg = LogisticRegression(\n",
        "    multi_class='multinomial',  # Uses Softmax for multiclass\n",
        "    solver='lbfgs',            # Suitable for multiclass\n",
        "    max_iter=1000,             # Ensure convergence\n",
        "    random_state=42\n",
        ")\n",
        "log_reg.fit(X_train_scaled, y_train)\n",
        "\n",
        "y_pred = log_reg.predict(X_test_scaled)\n",
        "y_proba = log_reg.predict_proba(X_test_scaled)  # Probabilities for each class"
      ],
      "metadata": {
        "colab": {
          "base_uri": "https://localhost:8080/"
        },
        "id": "Oo6lxbaujOJY",
        "outputId": "fc65ece8-5bac-4c6e-9a22-f5f667613899"
      },
      "execution_count": 40,
      "outputs": [
        {
          "output_type": "stream",
          "name": "stderr",
          "text": [
            "/usr/local/lib/python3.11/dist-packages/sklearn/linear_model/_logistic.py:1247: FutureWarning: 'multi_class' was deprecated in version 1.5 and will be removed in 1.7. From then on, it will always use 'multinomial'. Leave it to its default value to avoid this warning.\n",
            "  warnings.warn(\n"
          ]
        }
      ]
    },
    {
      "cell_type": "markdown",
      "source": [
        "Step 7: Classification Report & Confusion Matrix"
      ],
      "metadata": {
        "id": "gVYN0e3rjT-q"
      }
    },
    {
      "cell_type": "code",
      "source": [
        "print(\"Classification Report:\")\n",
        "print(classification_report(y_test, y_pred))\n",
        "\n",
        "print(\"\\nConfusion Matrix:\")\n",
        "print(confusion_matrix(y_test, y_pred))\n",
        "\n",
        "print(\"\\nAccuracy:\", accuracy_score(y_test, y_pred))"
      ],
      "metadata": {
        "colab": {
          "base_uri": "https://localhost:8080/"
        },
        "id": "xNvJNBrFjV4Y",
        "outputId": "9725ad74-1e4f-4d5a-8841-a13ed6441dfe"
      },
      "execution_count": 41,
      "outputs": [
        {
          "output_type": "stream",
          "name": "stdout",
          "text": [
            "Classification Report:\n",
            "              precision    recall  f1-score   support\n",
            "\n",
            "           0       0.92      0.95      0.93       541\n",
            "           1       0.95      0.94      0.94      1083\n",
            "           2       0.94      0.93      0.93       376\n",
            "\n",
            "    accuracy                           0.94      2000\n",
            "   macro avg       0.94      0.94      0.94      2000\n",
            "weighted avg       0.94      0.94      0.94      2000\n",
            "\n",
            "\n",
            "Confusion Matrix:\n",
            "[[ 512   29    0]\n",
            " [  44 1017   22]\n",
            " [   0   28  348]]\n",
            "\n",
            "Accuracy: 0.9385\n"
          ]
        }
      ]
    },
    {
      "cell_type": "markdown",
      "source": [
        "Step 8: Visualize Confusion Matrix"
      ],
      "metadata": {
        "id": "AbfNl7ZijgNw"
      }
    },
    {
      "cell_type": "code",
      "source": [
        "disp = ConfusionMatrixDisplay.from_estimator(\n",
        "    log_reg, X_test_scaled, y_test,\n",
        "    display_labels=['Low', 'Mid', 'High'],\n",
        "    cmap=plt.cm.Blues,\n",
        "    normalize='true'\n",
        ")\n",
        "disp.ax_.set_title('Normalized Confusion Matrix')\n",
        "plt.show()"
      ],
      "metadata": {
        "colab": {
          "base_uri": "https://localhost:8080/",
          "height": 472
        },
        "id": "KlN15fhMjlGn",
        "outputId": "1aea6fc6-af67-47e0-c582-6a99f29f7fca"
      },
      "execution_count": 42,
      "outputs": [
        {
          "output_type": "display_data",
          "data": {
            "text/plain": [
              "<Figure size 640x480 with 2 Axes>"
            ],
            "image/png": "[encoded data removed]"
          },
          "metadata": {}
        }
      ]
    },
    {
      "cell_type": "markdown",
      "source": [
        "Step 9: Cross-Validation for Stability Check"
      ],
      "metadata": {
        "id": "3NVbx_kJjuno"
      }
    },
    {
      "cell_type": "code",
      "source": [
        "cv_scores = cross_val_score(\n",
        "    log_reg, X_train_scaled, y_train,\n",
        "    cv=5, scoring='accuracy'\n",
        ")\n",
        "print(f\"\\nCross-validation scores: {cv_scores}\")\n",
        "print(f\"Mean CV accuracy: {cv_scores.mean():.4f} (+/- {cv_scores.std():.4f})\")"
      ],
      "metadata": {
        "colab": {
          "base_uri": "https://localhost:8080/"
        },
        "id": "0ZPWBbezjyw_",
        "outputId": "13bbcac7-e98f-4363-d4ea-bb4159fad70e"
      },
      "execution_count": 43,
      "outputs": [
        {
          "output_type": "stream",
          "name": "stderr",
          "text": [
            "/usr/local/lib/python3.11/dist-packages/sklearn/linear_model/_logistic.py:1247: FutureWarning: 'multi_class' was deprecated in version 1.5 and will be removed in 1.7. From then on, it will always use 'multinomial'. Leave it to its default value to avoid this warning.\n",
            "  warnings.warn(\n",
            "/usr/local/lib/python3.11/dist-packages/sklearn/linear_model/_logistic.py:1247: FutureWarning: 'multi_class' was deprecated in version 1.5 and will be removed in 1.7. From then on, it will always use 'multinomial'. Leave it to its default value to avoid this warning.\n",
            "  warnings.warn(\n",
            "/usr/local/lib/python3.11/dist-packages/sklearn/linear_model/_logistic.py:1247: FutureWarning: 'multi_class' was deprecated in version 1.5 and will be removed in 1.7. From then on, it will always use 'multinomial'. Leave it to its default value to avoid this warning.\n",
            "  warnings.warn(\n"
          ]
        },
        {
          "output_type": "stream",
          "name": "stdout",
          "text": [
            "\n",
            "Cross-validation scores: [0.936875 0.94125  0.93875  0.945    0.945625]\n",
            "Mean CV accuracy: 0.9415 (+/- 0.0034)\n"
          ]
        },
        {
          "output_type": "stream",
          "name": "stderr",
          "text": [
            "/usr/local/lib/python3.11/dist-packages/sklearn/linear_model/_logistic.py:1247: FutureWarning: 'multi_class' was deprecated in version 1.5 and will be removed in 1.7. From then on, it will always use 'multinomial'. Leave it to its default value to avoid this warning.\n",
            "  warnings.warn(\n",
            "/usr/local/lib/python3.11/dist-packages/sklearn/linear_model/_logistic.py:1247: FutureWarning: 'multi_class' was deprecated in version 1.5 and will be removed in 1.7. From then on, it will always use 'multinomial'. Leave it to its default value to avoid this warning.\n",
            "  warnings.warn(\n"
          ]
        }
      ]
    },
    {
      "cell_type": "markdown",
      "source": [
        "Step 10: Feature Importance Analysis"
      ],
      "metadata": {
        "id": "Nctc55gfj1zu"
      }
    },
    {
      "cell_type": "code",
      "source": [
        "feature_importance = pd.DataFrame({\n",
        "    'Feature': X.columns,\n",
        "    'Importance': np.abs(log_reg.coef_).mean(axis=0)\n",
        "}).sort_values('Importance', ascending=False)\n",
        "\n",
        "plt.figure(figsize=(10, 6))\n",
        "sns.barplot(x='Importance', y='Feature', data=feature_importance)\n",
        "plt.title('Feature Importance (Average Absolute Coefficient)')\n",
        "plt.show()"
      ],
      "metadata": {
        "colab": {
          "base_uri": "https://localhost:8080/",
          "height": 564
        },
        "id": "2x04cT6kj_IZ",
        "outputId": "de360f81-74eb-4258-ffc5-283aad60d7af"
      },
      "execution_count": 44,
      "outputs": [
        {
          "output_type": "display_data",
          "data": {
            "text/plain": [
              "<Figure size 1000x600 with 1 Axes>"
            ],
            "image/png": "[encoded data removed]"
          },
          "metadata": {}
        }
      ]
    },
    {
      "cell_type": "markdown",
      "source": [
        "Step 11: Define a Prediction Function"
      ],
      "metadata": {
        "id": "u-93SAs5kKON"
      }
    },
    {
      "cell_type": "code",
      "source": [
        "def classify_diamond(features):\n",
        "\n",
        "    # Create DataFrame from input features\n",
        "    input_data = pd.DataFrame([features])\n",
        "\n",
        "    # Encode categorical variables\n",
        "    input_data['cut'] = input_data['cut'].map(cut_map)\n",
        "    input_data['colour'] = input_data['colour'].map(color_map)\n",
        "    input_data['clarity'] = input_data['clarity'].map(clarity_map)\n",
        "\n",
        "    # Calculate derived features\n",
        "    input_data['volume'] = input_data['Length'] * input_data['Width'] * input_data['height']\n",
        "    input_data['table_to_depth_ratio'] = input_data['table'] / input_data['depth ratio']\n",
        "\n",
        "    # Scale features\n",
        "    input_scaled = scaler.transform(input_data)\n",
        "\n",
        "    # Make prediction\n",
        "    grade = log_reg.predict(input_scaled)[0]\n",
        "    proba = log_reg.predict_proba(input_scaled)[0]\n",
        "\n",
        "    # Return results\n",
        "    return {\n",
        "        'grade': ['Low', 'Mid', 'High'][grade],\n",
        "        'probabilities': {\n",
        "            'Low': proba[0],\n",
        "            'Mid': proba[1],\n",
        "            'High': proba[2]\n",
        "        }\n",
        "    }"
      ],
      "metadata": {
        "id": "Ho9qLT90kPP5"
      },
      "execution_count": 45,
      "outputs": []
    },
    {
      "cell_type": "markdown",
      "source": [
        "Step 12: Example Usage"
      ],
      "metadata": {
        "id": "IJYsj0TIkTEU"
      }
    },
    {
      "cell_type": "code",
      "source": [
        "new_diamond = {\n",
        "    'carat': 1.5,\n",
        "    'cut': 'Ideal',\n",
        "    'colour': 'G',\n",
        "    'clarity': 'VS1',\n",
        "    'Length': 7.5,\n",
        "    'Width': 7.4,\n",
        "    'height': 4.6,\n",
        "    'depth ratio': 61.5,\n",
        "    'table': 56\n",
        "}\n",
        "print(classify_diamond(new_diamond))"
      ],
      "metadata": {
        "colab": {
          "base_uri": "https://localhost:8080/"
        },
        "id": "cQ2cQa7wkW9l",
        "outputId": "e60dd577-29bd-4465-8ecd-3684cc44268a"
      },
      "execution_count": 46,
      "outputs": [
        {
          "output_type": "stream",
          "name": "stdout",
          "text": [
            "{'grade': 'High', 'probabilities': {'Low': np.float64(1.5052745085290682e-23), 'Mid': np.float64(0.00020897476845487312), 'High': np.float64(0.9997910252315452)}}\n"
          ]
        }
      ]
    }
  ]
}