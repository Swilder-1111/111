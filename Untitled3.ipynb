{
  "nbformat": 4,
  "nbformat_minor": 0,
  "metadata": {
    "colab": {
      "provenance": []
    },
    "kernelspec": {
      "name": "python3",
      "display_name": "Python 3"
    },
    "language_info": {
      "name": "python"
    }
  },
  "cells": [
    {
      "cell_type": "markdown",
      "source": [
        "1. How many bookings of arrestees were made in 2018?"
      ],
      "metadata": {
        "id": "wpzxMK28xsF9"
      }
    },
    {
      "cell_type": "code",
      "execution_count": null,
      "metadata": {
        "colab": {
          "base_uri": "https://localhost:8080/"
        },
        "id": "N8q8dsPYxqcz",
        "outputId": "d125b813-cb23-4a7b-f1f9-b44b78737cd8"
      },
      "outputs": [
        {
          "output_type": "stream",
          "name": "stdout",
          "text": [
            "   Report ID Arrest Date    Time  Area ID  Area Name  Reporting District  Age  \\\n",
            "0  191811472  05/03/2019  1700.0       18  Southeast                1802   23   \n",
            "1    5614161  04/29/2019  1040.0        8    West LA                 842   41   \n",
            "2    5615197  04/30/2019   615.0        6  Hollywood                 663   27   \n",
            "3    5615701  04/30/2019  1100.0        9   Van Nuys                 901    2   \n",
            "4    5615929  04/30/2019  1550.0       20    Olympic                2049   41   \n",
            "\n",
            "  Sex Code Descent Code  Charge Group Code Charge Group Description  \\\n",
            "0        F            B                NaN                      NaN   \n",
            "1        M            H                3.0                  Robbery   \n",
            "2        M            O                5.0                 Burglary   \n",
            "3        F            H                NaN                      NaN   \n",
            "4        M            W                4.0       Aggravated Assault   \n",
            "\n",
            "  Arrest Type Code       Charge Charge Description  \\\n",
            "0                M    653.22 PC                NaN   \n",
            "1                F        211PC            ROBBERY   \n",
            "2                F        459PC           BURGLARY   \n",
            "3                D    300(B)WIC                NaN   \n",
            "4                F  245(A)(2)PC      ADW W/FIREARM   \n",
            "\n",
            "                                    Address                     Cross Street  \\\n",
            "0                                      91ST                         FIGUEROA   \n",
            "1  11600    WILSHIRE                     BL                              NaN   \n",
            "2                                   LA BREA                        LEXINGTON   \n",
            "3                                    RAYMER  SEPULVEDA                    BL   \n",
            "4           8TH                          ST                          VERMONT   \n",
            "\n",
            "               Location  \n",
            "0  (33.9543, -118.2827)  \n",
            "1  (34.0508, -118.4592)  \n",
            "2  (34.0907, -118.3384)  \n",
            "3  (34.2149, -118.4674)  \n",
            "4  (34.0578, -118.2916)  \n",
            "Number of bookings in 2018: 104277\n"
          ]
        }
      ],
      "source": [
        "import pandas as pd\n",
        "\n",
        "# Read the CSV file\n",
        "url = '/content/Arrest_Data_from_2010_to_2019.csv'  # Replace this with the actual link or path to your CSV file\n",
        "data = pd.read_csv(url)\n",
        "\n",
        "# Display the first few rows of the dataset to understand its structure\n",
        "print(data.head())\n",
        "\n",
        "# Convert the 'Arrest Date' column to datetime format, handling inconsistent formats\n",
        "data['Arrest Date'] = pd.to_datetime(data['Arrest Date'], format='mixed', dayfirst=False)\n",
        "\n",
        "# Filter records for the year 2018\n",
        "data_2018 = data[(data['Arrest Date'] >= '2018-01-01') & (data['Arrest Date'] <= '2018-12-31')]\n",
        "\n",
        "# Count the number of bookings in 2018\n",
        "bookings_2018 = len(data_2018)\n",
        "\n",
        "# Print the result\n",
        "print(f\"Number of bookings in 2018: {bookings_2018}\")"
      ]
    },
    {
      "cell_type": "markdown",
      "source": [
        "2. How many bookings of arrestees were made in the area with the most arrests in 2018?"
      ],
      "metadata": {
        "id": "Lg3IgRXn2XbV"
      }
    },
    {
      "cell_type": "code",
      "source": [
        "import pandas as pd\n",
        "\n",
        "url = '/content/Arrest_Data_from_2010_to_2019.csv'  # Replace this with the actual link or path to your CSV file\n",
        "data = pd.read_csv(url, on_bad_lines='skip')  # Skip problematic rows\n",
        "\n",
        "# Convert the 'Arrest Date' column to datetime format\n",
        "data['Arrest Date'] = pd.to_datetime(data['Arrest Date'], format='mixed', dayfirst=False, errors='coerce')\n",
        "\n",
        "# Filter records for the year 2018\n",
        "data_2018 = data[(data['Arrest Date'] >= '2018-01-01') & (data['Arrest Date'] <= '2018-12-31')]\n",
        "\n",
        "# Find the area with the most arrests in 2018\n",
        "most_arrests_area = data_2018['Area Name'].value_counts().idxmax()\n",
        "most_arrests_count = data_2018['Area Name'].value_counts().max()\n",
        "\n",
        "# Filter records for the area with the most arrests\n",
        "data_most_arrests_area = data_2018[data_2018['Area Name'] == most_arrests_area]\n",
        "\n",
        "# Count the number of bookings in that area\n",
        "bookings_in_most_arrests_area = len(data_most_arrests_area)\n",
        "\n",
        "# Print the results\n",
        "print(f\"The area with the most arrests in 2018 is: {most_arrests_area} with {most_arrests_count} arrests.\")\n",
        "print(f\"Number of bookings in {most_arrests_area} in 2018: {bookings_in_most_arrests_area}\")"
      ],
      "metadata": {
        "colab": {
          "base_uri": "https://localhost:8080/"
        },
        "id": "67qDAVcr2XvY",
        "outputId": "f9be6dde-d257-41ac-984f-5c3ce8df80ce"
      },
      "execution_count": null,
      "outputs": [
        {
          "output_type": "stream",
          "name": "stdout",
          "text": [
            "The area with the most arrests in 2018 is: Central with 10951 arrests.\n",
            "Number of bookings in Central in 2018: 10951\n"
          ]
        }
      ]
    },
    {
      "cell_type": "markdown",
      "source": [
        "3. What is the 95% quantile of the age of the arrestee in 2018? Only consider the following charge groups for your analysis: Vehicle Theft, Robbery, Burglary, Receive Stolen Property."
      ],
      "metadata": {
        "id": "Ve4QkCtv3xjk"
      }
    },
    {
      "cell_type": "code",
      "source": [
        "import pandas as pd\n",
        "\n",
        "# Read the CSV file\n",
        "url = '/content/Arrest_Data_from_2010_to_2019.csv'  # Replace this with the actual link or path to your CSV file\n",
        "data = pd.read_csv(url, on_bad_lines='skip')  # Skip problematic rows\n",
        "\n",
        "# Convert the 'Arrest Date' column to datetime format\n",
        "data['Arrest Date'] = pd.to_datetime(data['Arrest Date'], format='mixed', dayfirst=False, errors='coerce')\n",
        "\n",
        "# Filter records for the year 2018\n",
        "data_2018 = data[(data['Arrest Date'] >= '2018-01-01') & (data['Arrest Date'] <= '2018-12-31')]\n",
        "\n",
        "# Filter records for the specified charge groups\n",
        "charge_groups = ['Vehicle Theft', 'Robbery', 'Burglary', 'Receive Stolen Property']\n",
        "filtered_data = data_2018[data_2018['Charge Group Description'].isin(charge_groups)]\n",
        "\n",
        "# Calculate the 95% quantile of the 'Age' column\n",
        "quantile_95_age = filtered_data['Age'].quantile(0.95)\n",
        "\n",
        "# Print the result\n",
        "print(f\"The 95% quantile of the age of arrestees in 2018 for the specified charge groups is: {quantile_95_age}\")"
      ],
      "metadata": {
        "colab": {
          "base_uri": "https://localhost:8080/"
        },
        "id": "DJP3ifgb3x09",
        "outputId": "c38637ad-1706-408d-9a9d-e1fb2e98cd02"
      },
      "execution_count": null,
      "outputs": [
        {
          "output_type": "stream",
          "name": "stdout",
          "text": [
            "The 95% quantile of the age of arrestees in 2018 for the specified charge groups is: 52.0\n"
          ]
        }
      ]
    },
    {
      "cell_type": "markdown",
      "source": [
        "4.  There are differences between the average age of an arrestee for the various charge groups.  Are these differences statistically significant?  For this question, calculate the Z-score of the average age for each charge group.  Report the largest absolute value among the calculated Z-scores.  (Only consider data for 2018.  Do not consider \"Pre-Delinquency\" and \"Non-Criminal Detention\" as these charge groups are reserved for minors.  Exclude any arrests where the charge group description is not known.)"
      ],
      "metadata": {
        "id": "dwXfmVaC75RI"
      }
    },
    {
      "cell_type": "code",
      "source": [
        "import pandas as pd\n",
        "import numpy as np\n",
        "from scipy import stats\n",
        "\n",
        "# Load the dataset\n",
        "file_path = '/content/Arrest_Data_from_2010_to_2019.csv'  # Replace with the actual path to your dataset\n",
        "data = pd.read_csv(file_path)\n",
        "\n",
        "# Convert the 'Arrest Date' column to datetime format\n",
        "data['Arrest Date'] = pd.to_datetime(data['Arrest Date'])\n",
        "\n",
        "# Filter the data to include only bookings made in 2018\n",
        "bookings_2018 = data[(data['Arrest Date'] >= '2018-01-01') & (data['Arrest Date'] < '2019-01-01')]\n",
        "\n",
        "# Exclude specified charge groups and unknown descriptions\n",
        "excluded_groups = ['Pre-Delinquency', 'Non-Criminal Detention']\n",
        "bookings_2018 = bookings_2018[~bookings_2018['Charge Group Description'].isin(excluded_groups)]\n",
        "bookings_2018 = bookings_2018[bookings_2018['Charge Group Description'].notna()]\n",
        "\n",
        "# Calculate overall mean and standard deviation of age\n",
        "overall_mean_age = bookings_2018['Age'].mean()\n",
        "overall_std_age = bookings_2018['Age'].std()\n",
        "\n",
        "# Group by charge group and calculate mean age for each group\n",
        "grouped = bookings_2018.groupby('Charge Group Description')['Age'].mean().reset_index()\n",
        "grouped.columns = ['Charge Group Description', 'Mean Age']\n",
        "\n",
        "# Calculate Z-scores for each charge group\n",
        "grouped['Z-Score'] = (grouped['Mean Age'] - overall_mean_age) / overall_std_age\n",
        "\n",
        "# Find the largest absolute Z-score\n",
        "largest_abs_z_score = grouped['Z-Score'].abs().max()\n",
        "\n",
        "# Print the result\n",
        "print(f\"The largest absolute Z-score among the charge groups is: {largest_abs_z_score:.6f}\")\n",
        "print(grouped[['Charge Group Description', 'Mean Age', 'Z-Score']])"
      ],
      "metadata": {
        "colab": {
          "base_uri": "https://localhost:8080/"
        },
        "id": "kZVPk8kG76cv",
        "outputId": "c3cb7523-3416-4280-9bdb-8ba503802c4b"
      },
      "execution_count": null,
      "outputs": [
        {
          "output_type": "stream",
          "name": "stdout",
          "text": [
            "The largest absolute Z-score among the charge groups is: 0.693428\n",
            "          Charge Group Description   Mean Age   Z-Score\n",
            "0             Against Family/Child  35.539545  0.043156\n",
            "1               Aggravated Assault  34.434622 -0.042733\n",
            "2                         Burglary  30.391216 -0.357039\n",
            "3               Disorderly Conduct  41.229890  0.485483\n",
            "4             Disturbing the Peace  39.010204  0.312940\n",
            "5          Driving Under Influence  34.953353 -0.002411\n",
            "6                       Drunkeness  43.905015  0.693428\n",
            "7                 Federal Offenses  34.080000 -0.070299\n",
            "8              Forgery/Counterfeit  34.265060 -0.055914\n",
            "9               Fraud/Embezzlement  35.615457  0.049056\n",
            "10                        Gambling  41.308571  0.491599\n",
            "11                        Homicide  30.470803 -0.350853\n",
            "12                         Larceny  33.776565 -0.093886\n",
            "13                     Liquor Laws  42.483482  0.582928\n",
            "14  Miscellaneous Other Violations  35.537684  0.043011\n",
            "15       Moving Traffic Violations  33.874614 -0.086264\n",
            "16              Narcotic Drug Laws  36.303356  0.102529\n",
            "17                  Other Assaults  34.091311 -0.069420\n",
            "18             Prostitution/Allied  30.006061 -0.386979\n",
            "19                            Rape  35.168254  0.014294\n",
            "20         Receive Stolen Property  31.791209 -0.248214\n",
            "21                         Robbery  27.182992 -0.606424\n",
            "22          Sex (except rape/prst)  37.029686  0.158989\n",
            "23                   Vehicle Theft  29.821615 -0.401316\n",
            "24             Weapon (carry/poss)  30.174323 -0.373899\n"
          ]
        }
      ]
    },
    {
      "cell_type": "markdown",
      "source": [
        "5.    How many arrest incidents occurred within 2 km from the Bradbury Building(https://en.wikipedia.org/wiki/Bradbury_Building ) in 2018?    [Use (34.050536, -118.247861) for the coordinates of the Bradbury Building.    For simplicity, please use the spherical Earth projected to a plane(https://en.wikipedia.org/wiki/Geographical_distance#Spherical_Earth_projected_) equation for calculating distances.    Use the radius of the Earth as 6371 km. Note, some arrest records are missing location data and the location is listed as (0, 0). These records should not factor in your calculation.]"
      ],
      "metadata": {
        "id": "Uc8Gl3ne_Rg2"
      }
    },
    {
      "cell_type": "code",
      "source": [
        "import pandas as pd\n",
        "import numpy as np\n",
        "\n",
        "# Constants\n",
        "BRADBURY_BUILDING_COORDS = (34.050536, -118.247861)  # (latitude, longitude)\n",
        "EARTH_RADIUS_KM = 6371  # Radius of the Earth in kilometers\n",
        "DISTANCE_THRESHOLD_KM = 2  # 2 km\n",
        "\n",
        "# Read the CSV file\n",
        "url = '/content/Arrest_Data_from_2010_to_2019.csv'  # Replace this with the actual link or path to your CSV file\n",
        "data = pd.read_csv(url, on_bad_lines='skip')  # Skip problematic rows\n",
        "\n",
        "# Convert the 'Arrest Date' column to datetime format\n",
        "data['Arrest Date'] = pd.to_datetime(data['Arrest Date'], format='mixed', dayfirst=False, errors='coerce')\n",
        "\n",
        "# Filter records for the year 2018\n",
        "data_2018 = data[(data['Arrest Date'] >= '2018-01-01') & (data['Arrest Date'] <= '2018-12-31')]\n",
        "\n",
        "# Exclude records with missing location data (0, 0)\n",
        "data_2018 = data_2018[(data_2018['Location'].notna()) & (data_2018['Location'] != '(0, 0)')]\n",
        "\n",
        "# Extract latitude and longitude from the 'Location' column\n",
        "# Assuming the 'Location' column is in the format \"(latitude, longitude)\"\n",
        "data_2018['Latitude'] = data_2018['Location'].str.extract(r'\\(([-\\d.]+),')[0].astype(float)\n",
        "data_2018['Longitude'] = data_2018['Location'].str.extract(r',\\s*([-\\d.]+)\\)')[0].astype(float)\n",
        "\n",
        "# Function to calculate distance using the spherical Earth projected to a plane formula\n",
        "def calculate_distance(lat1, lon1, lat2, lon2, earth_radius):\n",
        "    # Convert latitude and longitude from degrees to radians\n",
        "    lat1, lon1, lat2, lon2 = map(np.radians, [lat1, lon1, lat2, lon2])\n",
        "\n",
        "    # Calculate differences\n",
        "    dlat = lat2 - lat1\n",
        "    dlon = lon2 - lon1\n",
        "\n",
        "    # Calculate distance using the formula\n",
        "    a = np.sin(dlat / 2) ** 2 + np.cos(lat1) * np.cos(lat2) * np.sin(dlon / 2) ** 2\n",
        "    c = 2 * np.arctan2(np.sqrt(a), np.sqrt(1 - a))\n",
        "    distance = earth_radius * c\n",
        "\n",
        "    return distance\n",
        "\n",
        "# Calculate distances from the Bradbury Building\n",
        "data_2018['Distance (km)'] = data_2018.apply(\n",
        "    lambda row: calculate_distance(\n",
        "        row['Latitude'], row['Longitude'],\n",
        "        BRADBURY_BUILDING_COORDS[0], BRADBURY_BUILDING_COORDS[1],\n",
        "        EARTH_RADIUS_KM\n",
        "    ), axis=1\n",
        ")\n",
        "\n",
        "# Filter records within 2 km of the Bradbury Building\n",
        "nearby_arrests = data_2018[data_2018['Distance (km)'] <= DISTANCE_THRESHOLD_KM]\n",
        "\n",
        "# Count the number of arrest incidents\n",
        "num_nearby_arrests = len(nearby_arrests)\n",
        "\n",
        "# Print the result\n",
        "print(f\"Number of arrest incidents within 2 km of the Bradbury Building in 2018: {num_nearby_arrests}\")"
      ],
      "metadata": {
        "colab": {
          "base_uri": "https://localhost:8080/"
        },
        "id": "10Y3Zrt6_TAf",
        "outputId": "9b885d3d-d34e-46e2-c8e4-526097efd994"
      },
      "execution_count": null,
      "outputs": [
        {
          "output_type": "stream",
          "name": "stdout",
          "text": [
            "Number of arrest incidents within 2 km of the Bradbury Building in 2018: 11461\n"
          ]
        }
      ]
    },
    {
      "cell_type": "markdown",
      "source": [
        "6.   How many arrest incidents were made per kilometer on Pico Boulevard during 2018?   For this question, we will need to estimate the length of Pico Boulevard, which mostly stretches from east to west.   To estimate the length of Pico\n",
        "Boulevard: Consider all location data which the listed address mentions \"Pico\".   Remove outliers by filtering out locations where either the latitude or longitude is 2 standard deviations beyond the mean of the subset of identified points.   To estimate the length, calculate the distance from the most western and eastern coordinate points.   As before, use the simplified flat surface equation. Once you have estimated the length of Pico Boulevard, you can proceed to report the number of arrest incidents per kilometer on Pico Boulevard in 2018."
      ],
      "metadata": {
        "id": "HnFMmO2LIEFG"
      }
    },
    {
      "cell_type": "code",
      "source": [
        "import pandas as pd\n",
        "import numpy as np\n",
        "\n",
        "# Constants\n",
        "EARTH_RADIUS_KM = 6371  # Radius of the Earth in kilometers\n",
        "\n",
        "# Read the CSV file\n",
        "url = '/content/Arrest_Data_from_2010_to_2019.csv'  # Replace this with the actual link or path to your CSV file\n",
        "data = pd.read_csv(url, on_bad_lines='skip')  # Skip problematic rows\n",
        "\n",
        "# Convert the 'Arrest Date' column to datetime format\n",
        "data['Arrest Date'] = pd.to_datetime(data['Arrest Date'], format='mixed', dayfirst=False, errors='coerce')\n",
        "\n",
        "# Filter records for the year 2018\n",
        "data_2018 = data[(data['Arrest Date'] >= '2018-01-01') & (data['Arrest Date'] <= '2018-12-31')]\n",
        "\n",
        "# Filter records where the address mentions \"Pico\"\n",
        "pico_data = data_2018[data_2018['Address'].str.contains('Pico', case=False, na=False)]\n",
        "\n",
        "# Extract latitude and longitude from the 'Location' column\n",
        "# Assuming the 'Location' column is in the format \"(latitude, longitude)\"\n",
        "pico_data['Latitude'] = pico_data['Location'].str.extract(r'\\(([-\\d.]+),')[0].astype(float)\n",
        "pico_data['Longitude'] = pico_data['Location'].str.extract(r',\\s*([-\\d.]+)\\)')[0].astype(float)\n",
        "\n",
        "# Remove outliers: filter out locations where latitude or longitude is 2 standard deviations beyond the mean\n",
        "lat_mean = pico_data['Latitude'].mean()\n",
        "lat_std = pico_data['Latitude'].std()\n",
        "lon_mean = pico_data['Longitude'].mean()\n",
        "lon_std = pico_data['Longitude'].std()\n",
        "\n",
        "pico_data = pico_data[\n",
        "    (pico_data['Latitude'] >= lat_mean - 2 * lat_std) &\n",
        "    (pico_data['Latitude'] <= lat_mean + 2 * lat_std) &\n",
        "    (pico_data['Longitude'] >= lon_mean - 2 * lon_std) &\n",
        "    (pico_data['Longitude'] <= lon_mean + 2 * lon_std)\n",
        "]\n",
        "\n",
        "# Function to calculate distance using the spherical Earth projected to a plane formula\n",
        "def calculate_distance(lat1, lon1, lat2, lon2, earth_radius):\n",
        "    # Convert latitude and longitude from degrees to radians\n",
        "    lat1, lon1, lat2, lon2 = map(np.radians, [lat1, lon1, lat2, lon2])\n",
        "\n",
        "    # Calculate differences\n",
        "    dlat = lat2 - lat1\n",
        "    dlon = lon2 - lon1\n",
        "\n",
        "    # Calculate distance using the formula\n",
        "    a = np.sin(dlat / 2) ** 2 + np.cos(lat1) * np.cos(lat2) * np.sin(dlon / 2) ** 2\n",
        "    c = 2 * np.arctan2(np.sqrt(a), np.sqrt(1 - a))\n",
        "    distance = earth_radius * c\n",
        "\n",
        "    return distance\n",
        "\n",
        "# Find the most western and eastern points\n",
        "most_western = pico_data.loc[pico_data['Longitude'].idxmin()]\n",
        "most_eastern = pico_data.loc[pico_data['Longitude'].idxmax()]\n",
        "\n",
        "# Calculate the length of Pico Boulevard\n",
        "pico_length_km = calculate_distance(\n",
        "    most_western['Latitude'], most_western['Longitude'],\n",
        "    most_eastern['Latitude'], most_eastern['Longitude'],\n",
        "    EARTH_RADIUS_KM\n",
        ")\n",
        "\n",
        "# Count the number of arrest incidents on Pico Boulevard in 2018\n",
        "num_arrests_pico = len(pico_data)\n",
        "\n",
        "# Calculate the number of arrest incidents per kilometer\n",
        "arrests_per_km = num_arrests_pico / pico_length_km\n",
        "\n",
        "# Print the results\n",
        "print(f\"Estimated length of Pico Boulevard: {pico_length_km:.2f} km\")\n",
        "print(f\"Number of arrest incidents on Pico Boulevard in 2018: {num_arrests_pico}\")\n",
        "print(f\"Number of arrest incidents per kilometer on Pico Boulevard in 2018: {arrests_per_km:.2f}\")"
      ],
      "metadata": {
        "id": "z8ZSlvrUIE9w",
        "colab": {
          "base_uri": "https://localhost:8080/"
        },
        "outputId": "ab9bb736-1c35-4ec6-ed8e-c256f8e2ef2c"
      },
      "execution_count": null,
      "outputs": [
        {
          "metadata": {
            "tags": null
          },
          "name": "stdout",
          "output_type": "stream",
          "text": [
            "Estimated length of Pico Boulevard: 21.88 km\n",
            "Number of arrest incidents on Pico Boulevard in 2018: 605\n",
            "Number of arrest incidents per kilometer on Pico Boulevard in 2018: 27.66\n"
          ]
        },
        {
          "metadata": {
            "tags": null
          },
          "name": "stderr",
          "output_type": "stream",
          "text": [
            "<ipython-input-31-ee11b5c49730>:22: SettingWithCopyWarning: \n",
            "A value is trying to be set on a copy of a slice from a DataFrame.\n",
            "Try using .loc[row_indexer,col_indexer] = value instead\n",
            "\n",
            "See the caveats in the documentation: https://pandas.pydata.org/pandas-docs/stable/user_guide/indexing.html#returning-a-view-versus-a-copy\n",
            "  pico_data['Latitude'] = pico_data['Location'].str.extract(r'\\(([-\\d.]+),')[0].astype(float)\n",
            "<ipython-input-31-ee11b5c49730>:23: SettingWithCopyWarning: \n",
            "A value is trying to be set on a copy of a slice from a DataFrame.\n",
            "Try using .loc[row_indexer,col_indexer] = value instead\n",
            "\n",
            "See the caveats in the documentation: https://pandas.pydata.org/pandas-docs/stable/user_guide/indexing.html#returning-a-view-versus-a-copy\n",
            "  pico_data['Longitude'] = pico_data['Location'].str.extract(r',\\s*([-\\d.]+)\\)')[0].astype(float)\n"
          ]
        }
      ]
    },
    {
      "cell_type": "markdown",
      "source": [
        "7. Some types of arrest incidents in certain areas occur at a highly disproportionate rate compared to their frequency city-wide. For example, let's say that the rate of larceny arrests (charge group code 6) is 1% in Devonshire (area ID 17). This rate may appear low but what if larceny arrests constitute 0.1 % city-wide? The ratio between these two probabilities is 10 and we can say that larceny occurs unusually often in Devonshire (Note, these numbers were made up for illustration purposes). Calculate this ratio for all charge group code and area ID pairs. You can view this ratio as the ratio of the conditional probability of an arrest incident of a charge group code given that it occurred in an area ID to the unconditional probability of the arrest incident of a charge group. Report the average of the top 5 of the calculated ratio. Consider all records prior to January 1, 2019. Some arrest incidents don't have a charge group code. These records should not be considered in your analysis. Arrest incidents for charge group code 99 should not be considered in your analysis."
      ],
      "metadata": {
        "id": "_YGmJ2mKKxxp"
      }
    },
    {
      "cell_type": "code",
      "source": [
        "import pandas as pd\n",
        "\n",
        "# Load the dataset\n",
        "file_path = '/content/Arrest_Data_from_2010_to_2019.csv'  # Replace with the actual path to your dataset\n",
        "data = pd.read_csv(file_path)\n",
        "\n",
        "# Convert the 'Arrest Date' column to datetime format\n",
        "data['Arrest Date'] = pd.to_datetime(data['Arrest Date'])\n",
        "\n",
        "# Filter the data to include only records prior to January 1, 2019\n",
        "data = data[data['Arrest Date'] < '2019-01-01']\n",
        "\n",
        "# Remove records with missing charge group codes or charge group code 99\n",
        "data = data[data['Charge Group Code'].notna()]\n",
        "data = data[data['Charge Group Code'] != 99]\n",
        "\n",
        "# Calculate the unconditional probability of each charge group code city-wide\n",
        "total_arrests = data.shape[0]\n",
        "unconditional_prob = data['Charge Group Code'].value_counts(normalize=True).to_dict()\n",
        "\n",
        "# Calculate the conditional probability of each charge group code in each area\n",
        "conditional_prob = data.groupby(['Area ID', 'Charge Group Code']).size().div(data.groupby('Area ID').size()).reset_index(name='Conditional Probability')\n",
        "\n",
        "# Add unconditional probability to the DataFrame\n",
        "conditional_prob['Unconditional Probability'] = conditional_prob['Charge Group Code'].map(unconditional_prob)\n",
        "\n",
        "# Calculate the ratio of conditional to unconditional probabilities\n",
        "conditional_prob['Ratio'] = conditional_prob['Conditional Probability'] / conditional_prob['Unconditional Probability']\n",
        "\n",
        "# Find the top 5 highest ratios\n",
        "top_5_ratios = conditional_prob.nlargest(5, 'Ratio')\n",
        "\n",
        "# Calculate the average of the top 5 ratios\n",
        "average_top_5_ratios = top_5_ratios['Ratio'].mean()\n",
        "\n",
        "# Print the results\n",
        "print(\"Top 5 highest ratios:\")\n",
        "print(top_5_ratios[['Area ID', 'Charge Group Code', 'Ratio']])\n",
        "print(f\"\\nAverage of the top 5 ratios: {average_top_5_ratios:.2f}\")"
      ],
      "metadata": {
        "colab": {
          "base_uri": "https://localhost:8080/"
        },
        "id": "lzKgGJ-8K6vd",
        "outputId": "fe549f40-c0d4-4c96-dbf4-ff62f35f397c"
      },
      "execution_count": null,
      "outputs": [
        {
          "output_type": "stream",
          "name": "stdout",
          "text": [
            "Top 5 highest ratios:\n",
            "     Area ID  Charge Group Code     Ratio\n",
            "19         1               20.0  5.316477\n",
            "466       17               19.0  3.187454\n",
            "391       14               29.0  3.174763\n",
            "453       17                6.0  3.012779\n",
            "236        9               13.0  2.883909\n",
            "\n",
            "Average of the top 5 ratios: 3.52\n"
          ]
        }
      ]
    },
    {
      "cell_type": "markdown",
      "source": [
        "8.  Felony arrest incidents have been dropping over the years.  Using a trend line (linear estimation) for the data from 2010 and 2018 (inclusive), what is the projected number of felony arrests in 2019?  Round to the nearest integer.  Note, the data set includes arrests for misdemeanor, felonies, etc."
      ],
      "metadata": {
        "id": "ZADm8mE4QPgu"
      }
    },
    {
      "cell_type": "code",
      "source": [
        "import pandas as pd\n",
        "import numpy as np\n",
        "from sklearn.linear_model import LinearRegression\n",
        "import matplotlib.pyplot as plt\n",
        "\n",
        "# Load the dataset\n",
        "file_path = '/content/Arrest_Data_from_2010_to_2019.csv'  # Replace with the actual path to your dataset\n",
        "data = pd.read_csv(file_path)\n",
        "\n",
        "# Convert the 'Arrest Date' column to datetime format\n",
        "data['Arrest Date'] = pd.to_datetime(data['Arrest Date'])\n",
        "\n",
        "# Filter the data to include only felony arrests (Arrest Type Code == 'F') from 2010 to 2018\n",
        "felony_data = data[(data['Arrest Type Code'] == 'F') &\n",
        "                   (data['Arrest Date'].dt.year >= 2010) &\n",
        "                   (data['Arrest Date'].dt.year <= 2018)]\n",
        "\n",
        "# Ensure the dataset is not empty\n",
        "if felony_data.empty:\n",
        "    raise ValueError(\"No felony arrest records found in the dataset. Please check the 'Arrest Type Code'.\")\n",
        "\n",
        "# Count the number of felony arrests for each year\n",
        "yearly_felony_counts = felony_data.groupby(felony_data['Arrest Date'].dt.year).size().reset_index(name='Count')\n",
        "\n",
        "# Prepare the data for linear regression\n",
        "X = yearly_felony_counts['Arrest Date'].values.reshape(-1, 1)  # Year as the independent variable\n",
        "y = yearly_felony_counts['Count'].values  # Number of felony arrests as the dependent variable\n",
        "\n",
        "# Fit a linear regression model\n",
        "model = LinearRegression()\n",
        "model.fit(X, y)\n",
        "\n",
        "# Predict the number of felony arrests for 2019\n",
        "X_pred = np.array([[2019]])\n",
        "y_pred = model.predict(X_pred)\n",
        "\n",
        "# Round the prediction to the nearest integer\n",
        "projected_arrests_2019 = round(y_pred[0])\n",
        "\n",
        "# Print the result\n",
        "print(f\"Projected number of felony arrests in 2019: {projected_arrests_2019}\")\n",
        "\n",
        "# Optional: Plot the trend line and the prediction\n",
        "plt.scatter(X, y, color='blue', label='Actual Data')\n",
        "plt.plot(X, model.predict(X), color='red', label='Trend Line')\n",
        "plt.scatter(X_pred, y_pred, color='green', label='2019 Prediction')\n",
        "plt.xlabel('Year')\n",
        "plt.ylabel('Number of Felony Arrests')\n",
        "plt.title('Felony Arrests Trend (2010-2018) and 2019 Prediction')\n",
        "plt.legend()\n",
        "plt.show()"
      ],
      "metadata": {
        "colab": {
          "base_uri": "https://localhost:8080/",
          "height": 489
        },
        "id": "D7IoTY6lQOn4",
        "outputId": "f62ee3fd-e9f2-43ea-d9f0-b8ad2b84d93e"
      },
      "execution_count": null,
      "outputs": [
        {
          "output_type": "stream",
          "name": "stdout",
          "text": [
            "Projected number of felony arrests in 2019: 31038\n"
          ]
        },
        {
          "output_type": "display_data",
          "data": {
            "text/plain": [
              "<Figure size 640x480 with 1 Axes>"
            ],
            "image/png": "[encoded data removed]"
          },
          "metadata": {}
        }
      ]
    }
  ]
}